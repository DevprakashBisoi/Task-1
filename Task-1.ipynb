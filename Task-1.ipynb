{
 "cells": [
  {
   "cell_type": "code",
   "execution_count": 1,
   "metadata": {},
   "outputs": [],
   "source": [
    "num = 20  # An integer type\n",
    "nums = [1, 2, 3, 4, 5] # A list of integers\n",
    "name = \"Alice\"        # A string\n",
    "mixed = [num, name, 8, \"Bobby\"]  # A list of integer and string\n",
    "point = (10, 20)   # A tuple of integers\n",
    "colors = {\"Red\", \"Green\", \"Blue\"}  # A set of strings\n",
    "names = [\"Rey\", \"Ben\", \"Charlie\"]  # A list of strings"
   ]
  },
  {
   "cell_type": "code",
   "execution_count": 2,
   "metadata": {},
   "outputs": [],
   "source": [
    "# A dictionary with unique random keys and the above variables as values\n",
    "data = {\n",
    "    \"v1\": num,\n",
    "    \"v2\": nums,\n",
    "    \"v3\": name,\n",
    "    \"v4\": mixed,\n",
    "    \"v5\": point,\n",
    "    \"v6\": colors,\n",
    "    \"v7\": names\n",
    "}"
   ]
  },
  {
   "cell_type": "code",
   "execution_count": 3,
   "metadata": {},
   "outputs": [
    {
     "name": "stdout",
     "output_type": "stream",
     "text": [
      "20\n",
      "Alice\n",
      "1\n",
      "Bobby\n",
      "20\n",
      "False\n",
      "Charlie\n"
     ]
    }
   ],
   "source": [
    "print(data[\"v1\"])          # Access the value of num\n",
    "print(data[\"v3\"])          # Access the value of name\n",
    "print(data[\"v2\"][0])       # Access the first element of nums\n",
    "print(data[\"v4\"][-1])      # Access the last element of mixed\n",
    "print(data[\"v5\"][1])       # Access the second element of point\n",
    "print(\"red\" in data[\"v6\"])  # Check if red is in colors\n",
    "print(data[\"v7\"][2])      # Access the third element of names"
   ]
  },
  {
   "cell_type": "code",
   "execution_count": null,
   "metadata": {},
   "outputs": [],
   "source": []
  }
 ],
 "metadata": {
  "kernelspec": {
   "display_name": "Python 3",
   "language": "python",
   "name": "python3"
  },
  "language_info": {
   "codemirror_mode": {
    "name": "ipython",
    "version": 3
   },
   "file_extension": ".py",
   "mimetype": "text/x-python",
   "name": "python",
   "nbconvert_exporter": "python",
   "pygments_lexer": "ipython3",
   "version": "3.7.6"
  }
 },
 "nbformat": 4,
 "nbformat_minor": 4
}
